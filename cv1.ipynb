{
 "cells": [
  {
   "cell_type": "code",
   "execution_count": 7,
   "id": "2e5ecb52-9e47-4fcd-a17b-9c36d8d7094c",
   "metadata": {},
   "outputs": [],
   "source": [
    "import cv2\n",
    "import face_recognition\n",
    "import numpy as np\n",
    "import os\n",
    "from datetime import datetime\n",
    "from IPython.display import display, Image, clear_output\n",
    "import ipywidgets as widgets\n",
    "os.environ['PYTHONWARNINGS'] = 'ignore'  # You can make this more specific"
   ]
  },
  {
   "cell_type": "raw",
   "id": "cc023898-aab9-4d16-a6e1-2171df45b038",
   "metadata": {},
   "source": [
    "Открытие видеопотока со встроенной камеры"
   ]
  },
  {
   "cell_type": "markdown",
   "id": "8261fffa-c1fd-412a-8d02-7d3a6c559f5d",
   "metadata": {},
   "source": [
    "Создание виджета в ноутбуке для вывода потока камеры"
   ]
  },
  {
   "cell_type": "code",
   "execution_count": 10,
   "id": "e1bbf0dc-a8c3-42b8-b717-23b904676a36",
   "metadata": {
    "scrolled": true
   },
   "outputs": [
    {
     "data": {
      "application/vnd.jupyter.widget-view+json": {
       "model_id": "f67f7f6d5f834b889b266d35d855a0ed",
       "version_major": 2,
       "version_minor": 0
      },
      "text/plain": [
       "Output()"
      ]
     },
     "metadata": {},
     "output_type": "display_data"
    }
   ],
   "source": [
    "out=widgets.Output()\n",
    "display(out)"
   ]
  },
  {
   "cell_type": "code",
   "execution_count": 9,
   "id": "5a8d48fc-10ec-4188-95a7-1ba33d5b7d90",
   "metadata": {},
   "outputs": [],
   "source": [
    "video_capture = cv2.VideoCapture(0)"
   ]
  },
  {
   "cell_type": "code",
   "execution_count": 4,
   "id": "6b3e4cec-02e6-44b6-893d-90229ce445b0",
   "metadata": {},
   "outputs": [
    {
     "ename": "SyntaxError",
     "evalue": "incomplete input (1233152027.py, line 10)",
     "output_type": "error",
     "traceback": [
      "\u001b[0;36m  Cell \u001b[0;32mIn[4], line 10\u001b[0;36m\u001b[0m\n\u001b[0;31m    break\u001b[0m\n\u001b[0m         ^\u001b[0m\n\u001b[0;31mSyntaxError\u001b[0m\u001b[0;31m:\u001b[0m incomplete input\n"
     ]
    }
   ],
   "source": [
    "if not video_capture.isOpened():\n",
    "    raise IOError(\"Не удалось открыть камеру! Проверьте разрешения.\")\n",
    "\n",
    "try:\n",
    "    while True:\n",
    "        # Захватываем кадр\n",
    "        ret, frame = video_capture.read()\n",
    "        if not ret:\n",
    "            print(\"Не удалось получить кадр с камеры!\")\n",
    "            break\n",
    "\n",
    "            rgb_frame = cv2.cvtColor(frame, cv2.COLOR_BGR2RGB)"
   ]
  },
  {
   "cell_type": "code",
   "execution_count": 11,
   "id": "1114affe-e01a-42e9-9c0a-8a305a35aa76",
   "metadata": {},
   "outputs": [
    {
     "ename": "NameError",
     "evalue": "name 'rgb_frame' is not defined",
     "output_type": "error",
     "traceback": [
      "\u001b[0;31m---------------------------------------------------------------------------\u001b[0m",
      "\u001b[0;31mNameError\u001b[0m                                 Traceback (most recent call last)",
      "Cell \u001b[0;32mIn[11], line 1\u001b[0m\n\u001b[0;32m----> 1\u001b[0m face_locations\u001b[38;5;241m=\u001b[39m face_recognition\u001b[38;5;241m.\u001b[39mface_locations(\u001b[43mrgb_frame\u001b[49m)\n\u001b[1;32m      2\u001b[0m face_landmarks\u001b[38;5;241m=\u001b[39mface_recognition\u001b[38;5;241m.\u001b[39mface_landmarks(rgb_frame)\n",
      "\u001b[0;31mNameError\u001b[0m: name 'rgb_frame' is not defined"
     ]
    }
   ],
   "source": [
    "face_locations= face_recognition.face_locations(rgb_frame)\n",
    "face_landmarks=face_recognition.face_landmarks(rgb_frame)"
   ]
  },
  {
   "cell_type": "code",
   "execution_count": 6,
   "id": "14c24f54-693f-4278-b0b9-56386acc82d9",
   "metadata": {},
   "outputs": [
    {
     "ename": "NameError",
     "evalue": "name 'face_locations' is not defined",
     "output_type": "error",
     "traceback": [
      "\u001b[0;31m---------------------------------------------------------------------------\u001b[0m",
      "\u001b[0;31mNameError\u001b[0m                                 Traceback (most recent call last)",
      "Cell \u001b[0;32mIn[6], line 1\u001b[0m\n\u001b[0;32m----> 1\u001b[0m \u001b[38;5;28;01mfor\u001b[39;00m (top, right, left, bottom) , landmarks \u001b[38;5;129;01min\u001b[39;00m \u001b[38;5;28mzip\u001b[39m( \u001b[43mface_locations\u001b[49m , face_landmarks):\n\u001b[1;32m      2\u001b[0m     cv2\u001b[38;5;241m.\u001b[39mrectangle(frame , (left,top), (right,bottom) , (\u001b[38;5;241m0\u001b[39m,\u001b[38;5;241m255\u001b[39m,\u001b[38;5;241m0\u001b[39m),\u001b[38;5;241m2\u001b[39m)\n\u001b[1;32m      4\u001b[0m     \u001b[38;5;28;01mfor\u001b[39;00m feature , points \u001b[38;5;129;01min\u001b[39;00m landmarks\u001b[38;5;241m.\u001b[39mitems(\u001b[38;5;241m0\u001b[39m):\n",
      "\u001b[0;31mNameError\u001b[0m: name 'face_locations' is not defined"
     ]
    }
   ],
   "source": [
    "for (top, right, left, bottom) , landmarks in zip( face_locations , face_landmarks):\n",
    "    cv2.rectangle(frame , (left,top), (right,bottom) , (0,255,0),2)\n",
    "\n",
    "    for feature , points in landmarks.items(0):\n",
    "        for (x,y) in points:\n",
    "            cv2.circle(frame , (x,y) , 1 , (0,0,255),-1)\n",
    "            "
   ]
  },
  {
   "cell_type": "markdown",
   "id": "4191bf25-31ee-4a95-b807-aff244816cf1",
   "metadata": {},
   "source": [
    "Конвертируем обработанный кадр в JPEG для отображения в Jupyter"
   ]
  },
  {
   "cell_type": "code",
   "execution_count": 19,
   "id": "492a3d1c-2c69-49b5-89d1-368a2e2345f7",
   "metadata": {},
   "outputs": [
    {
     "ename": "NameError",
     "evalue": "name 'frame' is not defined",
     "output_type": "error",
     "traceback": [
      "\u001b[0;31m---------------------------------------------------------------------------\u001b[0m",
      "\u001b[0;31mNameError\u001b[0m                                 Traceback (most recent call last)",
      "Cell \u001b[0;32mIn[19], line 1\u001b[0m\n\u001b[0;32m----> 1\u001b[0m _, encoded_frame\u001b[38;5;241m=\u001b[39mcv2\u001b[38;5;241m.\u001b[39mimencode(\u001b[38;5;124m'\u001b[39m\u001b[38;5;124m.jpg\u001b[39m\u001b[38;5;124m'\u001b[39m,\u001b[43mframe\u001b[49m)\n",
      "\u001b[0;31mNameError\u001b[0m: name 'frame' is not defined"
     ]
    }
   ],
   "source": [
    "_, encoded_frame=cv2.imencode('.jpg',frame)"
   ]
  },
  {
   "cell_type": "raw",
   "id": "df2fea99-1456-415a-a025-0b101a2f2aab",
   "metadata": {},
   "source": [
    "Выводим кадр в виджет"
   ]
  },
  {
   "cell_type": "code",
   "execution_count": 20,
   "id": "4bc16972-f8e3-428f-9bc0-1def32a7ecc1",
   "metadata": {},
   "outputs": [
    {
     "ename": "SyntaxError",
     "evalue": "incomplete input (1299979478.py, line 3)",
     "output_type": "error",
     "traceback": [
      "\u001b[0;36m  Cell \u001b[0;32mIn[20], line 3\u001b[0;36m\u001b[0m\n\u001b[0;31m    display(Image(data=encoded_frame.tobytes())\u001b[0m\n\u001b[0m                                               ^\u001b[0m\n\u001b[0;31mSyntaxError\u001b[0m\u001b[0;31m:\u001b[0m incomplete input\n"
     ]
    }
   ],
   "source": [
    "with out:\n",
    "    clear_output(wait=True)\n",
    "    display(Image(data=encoded_frame.tobytes())"
   ]
  },
  {
   "cell_type": "code",
   "execution_count": 21,
   "id": "9a5bbd53-7483-4406-8437-36397ec41cf8",
   "metadata": {},
   "outputs": [
    {
     "ename": "NameError",
     "evalue": "name 'time' is not defined",
     "output_type": "error",
     "traceback": [
      "\u001b[0;31m---------------------------------------------------------------------------\u001b[0m",
      "\u001b[0;31mNameError\u001b[0m                                 Traceback (most recent call last)",
      "Cell \u001b[0;32mIn[21], line 1\u001b[0m\n\u001b[0;32m----> 1\u001b[0m \u001b[43mtime\u001b[49m\u001b[38;5;241m.\u001b[39msleep(\u001b[38;5;241m0\u001b[39m)\n",
      "\u001b[0;31mNameError\u001b[0m: name 'time' is not defined"
     ]
    }
   ],
   "source": [
    "time.sleep(0)"
   ]
  },
  {
   "cell_type": "code",
   "execution_count": 22,
   "id": "f0cc8390-9135-4f24-bae7-18ec0674f596",
   "metadata": {},
   "outputs": [
    {
     "ename": "SyntaxError",
     "evalue": "invalid syntax (4030346916.py, line 1)",
     "output_type": "error",
     "traceback": [
      "\u001b[0;36m  Cell \u001b[0;32mIn[22], line 1\u001b[0;36m\u001b[0m\n\u001b[0;31m    except KeyboardInterrupt:\u001b[0m\n\u001b[0m    ^\u001b[0m\n\u001b[0;31mSyntaxError\u001b[0m\u001b[0;31m:\u001b[0m invalid syntax\n"
     ]
    }
   ],
   "source": [
    "except KeyboardInterrupt:\n",
    "    print(\"Остановлено пользователем\")\n",
    "finally:\n",
    "    # Освобождаем камеру при завершении\n",
    "    video_capture.release()\n",
    "    print(\"Камера освобождена\")"
   ]
  },
  {
   "cell_type": "code",
   "execution_count": null,
   "id": "3ccbafa2-0426-431a-b8c8-1b6516823bd1",
   "metadata": {},
   "outputs": [],
   "source": []
  },
  {
   "cell_type": "code",
   "execution_count": null,
   "id": "6aa44bb4-2253-43a4-8610-90236957e29d",
   "metadata": {},
   "outputs": [],
   "source": []
  }
 ],
 "metadata": {
  "kernelspec": {
   "display_name": "Python 3 (ipykernel)",
   "language": "python",
   "name": "python3"
  },
  "language_info": {
   "codemirror_mode": {
    "name": "ipython",
    "version": 3
   },
   "file_extension": ".py",
   "mimetype": "text/x-python",
   "name": "python",
   "nbconvert_exporter": "python",
   "pygments_lexer": "ipython3",
   "version": "3.10.18"
  }
 },
 "nbformat": 4,
 "nbformat_minor": 5
}
