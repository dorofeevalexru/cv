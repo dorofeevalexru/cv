{
 "cells": [
  {
   "cell_type": "code",
   "execution_count": 1,
   "id": "4165fa10-5da1-4c27-a8f2-0b78b7549c2d",
   "metadata": {},
   "outputs": [],
   "source": [
    "import cv2\n",
    "import face_recognition\n",
    "import numpy as np\n",
    "import os\n",
    "from datetime import datetime\n",
    "from IPython.display import display, Image, clear_output\n",
    "import ipywidgets as widgets\n",
    "import time  "
   ]
  },
  {
   "cell_type": "code",
   "execution_count": 2,
   "id": "f6cab982-8d8f-4461-9dfc-319943c611fb",
   "metadata": {},
   "outputs": [],
   "source": [
    "os.environ['PYTHONWARNINGS'] = 'ignore'"
   ]
  },
  {
   "cell_type": "code",
   "execution_count": 3,
   "id": "ad16ec94-718c-4e4e-97d6-53369d06e5af",
   "metadata": {},
   "outputs": [
    {
     "data": {
      "application/vnd.jupyter.widget-view+json": {
       "model_id": "6d76d73a04f64087b4ceebb2cfe5867a",
       "version_major": 2,
       "version_minor": 0
      },
      "text/plain": [
       "Output()"
      ]
     },
     "metadata": {},
     "output_type": "display_data"
    }
   ],
   "source": [
    "out = widgets.Output()\n",
    "display(out)\n",
    "video_capture = cv2.VideoCapture(0)"
   ]
  },
  {
   "cell_type": "code",
   "execution_count": null,
   "id": "387c0263-03e5-41db-b9f7-1ac1cd15afe2",
   "metadata": {},
   "outputs": [],
   "source": [
    "if not video_capture.isOpened():\n",
    "    raise IOError(\"Не удалось открыть камеру! Проверьте разрешения.\")\n",
    "\n",
    "try:\n",
    "    while True:\n",
    "        # Захватываем кадр\n",
    "        ret, frame = video_capture.read()\n",
    "        if not ret:\n",
    "            print(\"Не удалось получить кадр с камеры!\")\n",
    "            break\n",
    "\n",
    "        # Конвертируем BGR (OpenCV) в RGB (face_recognition)\n",
    "        rgb_frame = cv2.cvtColor(frame, cv2.COLOR_BGR2RGB)\n",
    "\n",
    "        # Ищем лица и их ключевые точки\n",
    "        face_locations = face_recognition.face_locations(rgb_frame, model=\"hog\")  # Исправлено: face_recognition\n",
    "        face_landmarks = face_recognition.face_landmarks(rgb_frame, model=\"small\")  # Исправлено: face_recognition\n",
    "\n",
    "        # Рисуем прямоугольники вокруг лиц и точки для ключевых точек\n",
    "        for (top, right, bottom, left), landmarks in zip(face_locations, face_landmarks):\n",
    "            cv2.rectangle(frame, (left, top), (right, bottom), (0, 255, 0), 2)\n",
    "            \n",
    "            for feature, points in landmarks.items():  # Исправлено: items(), а не items(0)\n",
    "                for (x, y) in points:\n",
    "                    cv2.circle(frame, (x, y), 1, (0, 0, 255), -1)\n",
    "\n",
    "        # Кодируем кадр в JPG и выводим в виджет\n",
    "        _, encoded_frame = cv2.imencode('.jpg', frame)\n",
    "        with out:\n",
    "            clear_output(wait=True)\n",
    "            display(Image(data=encoded_frame.tobytes()))  # Исправлено: добавлена закрывающая скобка\n",
    "\n",
    "        # Задержка для уменьшения нагрузки (можно заменить на cv2.waitKey(1))\n",
    "        \n",
    "\n",
    "except KeyboardInterrupt:\n",
    "    print(\"Остановлено пользователем\")\n",
    "\n",
    "finally:\n",
    "    # Освобождаем камеру при завершении\n",
    "    video_capture.release()\n",
    "    print(\"Камера освобождена\")"
   ]
  },
  {
   "cell_type": "code",
   "execution_count": null,
   "id": "ce1557da-ba02-4073-8645-af0fa454568c",
   "metadata": {},
   "outputs": [],
   "source": []
  },
  {
   "cell_type": "code",
   "execution_count": null,
   "id": "41f89ac9-36b2-4f0d-b6f9-12a49099c76c",
   "metadata": {},
   "outputs": [],
   "source": []
  }
 ],
 "metadata": {
  "kernelspec": {
   "display_name": "Python 3 (ipykernel)",
   "language": "python",
   "name": "python3"
  },
  "language_info": {
   "codemirror_mode": {
    "name": "ipython",
    "version": 3
   },
   "file_extension": ".py",
   "mimetype": "text/x-python",
   "name": "python",
   "nbconvert_exporter": "python",
   "pygments_lexer": "ipython3",
   "version": "3.10.18"
  }
 },
 "nbformat": 4,
 "nbformat_minor": 5
}
